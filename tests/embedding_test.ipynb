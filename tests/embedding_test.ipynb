{
 "cells": [
  {
   "cell_type": "code",
   "execution_count": null,
   "metadata": {
    "_cell_guid": "b1076dfc-b9ad-4769-8c92-a6c4dae69d19",
    "_uuid": "8f2839f25d086af736a60e9eeb907d3b93b6e0e5",
    "trusted": true
   },
   "outputs": [],
   "source": [
    "!pip install openai langchain chromadb tiktoken faiss-cpu -qq\n",
    "!pip install matplotlib seaborn -qq\n",
    "!pip install sentence-transformers -qq\n",
    "!pip install PyPDF2 -qq"
   ]
  },
  {
   "cell_type": "code",
   "execution_count": 16,
   "metadata": {
    "execution": {
     "iopub.execute_input": "2025-09-14T00:01:27.476992Z",
     "iopub.status.busy": "2025-09-14T00:01:27.476430Z",
     "iopub.status.idle": "2025-09-14T00:01:27.480553Z",
     "shell.execute_reply": "2025-09-14T00:01:27.479807Z",
     "shell.execute_reply.started": "2025-09-14T00:01:27.476970Z"
    },
    "trusted": true
   },
   "outputs": [],
   "source": [
    "import os\n",
    "import json\n",
    "import numpy as np\n",
    "from sentence_transformers import SentenceTransformer\n",
    "import faiss"
   ]
  },
  {
   "cell_type": "code",
   "execution_count": 9,
   "metadata": {
    "execution": {
     "iopub.execute_input": "2025-09-13T22:56:53.487703Z",
     "iopub.status.busy": "2025-09-13T22:56:53.486947Z",
     "iopub.status.idle": "2025-09-13T22:57:06.050940Z",
     "shell.execute_reply": "2025-09-13T22:57:06.050344Z",
     "shell.execute_reply.started": "2025-09-13T22:56:53.487677Z"
    },
    "trusted": true
   },
   "outputs": [
    {
     "data": {
      "application/vnd.jupyter.widget-view+json": {
       "model_id": "0aaa69c4482b4471ae71753760deab6b",
       "version_major": 2,
       "version_minor": 0
      },
      "text/plain": [
       "modules.json:   0%|          | 0.00/387 [00:00<?, ?B/s]"
      ]
     },
     "metadata": {},
     "output_type": "display_data"
    },
    {
     "data": {
      "application/vnd.jupyter.widget-view+json": {
       "model_id": "c24714d3cb7942d6b1004749016fa523",
       "version_major": 2,
       "version_minor": 0
      },
      "text/plain": [
       "README.md: 0.00B [00:00, ?B/s]"
      ]
     },
     "metadata": {},
     "output_type": "display_data"
    },
    {
     "data": {
      "application/vnd.jupyter.widget-view+json": {
       "model_id": "e6896953fc9948d6a71781c94d61b798",
       "version_major": 2,
       "version_minor": 0
      },
      "text/plain": [
       "sentence_bert_config.json:   0%|          | 0.00/57.0 [00:00<?, ?B/s]"
      ]
     },
     "metadata": {},
     "output_type": "display_data"
    },
    {
     "data": {
      "application/vnd.jupyter.widget-view+json": {
       "model_id": "9d6af3dff07e4ccba4e431f225990d8d",
       "version_major": 2,
       "version_minor": 0
      },
      "text/plain": [
       "config.json:   0%|          | 0.00/694 [00:00<?, ?B/s]"
      ]
     },
     "metadata": {},
     "output_type": "display_data"
    },
    {
     "data": {
      "application/vnd.jupyter.widget-view+json": {
       "model_id": "fa04699eec864a1a8c41d87550d50844",
       "version_major": 2,
       "version_minor": 0
      },
      "text/plain": [
       "model.safetensors:   0%|          | 0.00/1.11G [00:00<?, ?B/s]"
      ]
     },
     "metadata": {},
     "output_type": "display_data"
    },
    {
     "data": {
      "application/vnd.jupyter.widget-view+json": {
       "model_id": "523d1aaff6ce49f0852535b1ef7e7d0f",
       "version_major": 2,
       "version_minor": 0
      },
      "text/plain": [
       "tokenizer_config.json:   0%|          | 0.00/418 [00:00<?, ?B/s]"
      ]
     },
     "metadata": {},
     "output_type": "display_data"
    },
    {
     "data": {
      "application/vnd.jupyter.widget-view+json": {
       "model_id": "b597afba44ad4495a83ed8c83dcd66a1",
       "version_major": 2,
       "version_minor": 0
      },
      "text/plain": [
       "sentencepiece.bpe.model:   0%|          | 0.00/5.07M [00:00<?, ?B/s]"
      ]
     },
     "metadata": {},
     "output_type": "display_data"
    },
    {
     "data": {
      "application/vnd.jupyter.widget-view+json": {
       "model_id": "2a5edd20a67c4a738b31b76dc51b3895",
       "version_major": 2,
       "version_minor": 0
      },
      "text/plain": [
       "tokenizer.json:   0%|          | 0.00/17.1M [00:00<?, ?B/s]"
      ]
     },
     "metadata": {},
     "output_type": "display_data"
    },
    {
     "data": {
      "application/vnd.jupyter.widget-view+json": {
       "model_id": "ab203201799540c6ad78538c683ca8d3",
       "version_major": 2,
       "version_minor": 0
      },
      "text/plain": [
       "special_tokens_map.json:   0%|          | 0.00/280 [00:00<?, ?B/s]"
      ]
     },
     "metadata": {},
     "output_type": "display_data"
    },
    {
     "data": {
      "application/vnd.jupyter.widget-view+json": {
       "model_id": "042691bf02e64245864d7c8f98a79b79",
       "version_major": 2,
       "version_minor": 0
      },
      "text/plain": [
       "config.json:   0%|          | 0.00/200 [00:00<?, ?B/s]"
      ]
     },
     "metadata": {},
     "output_type": "display_data"
    }
   ],
   "source": [
    "model = SentenceTransformer(\"intfloat/multilingual-e5-base\")\n",
    "# model = SentenceTransformer(\"sentence-transformers/all-MiniLM-L6-v2\")\n",
    "# model = SentenceTransformer(\"sentence-transformers/all-mpnet-base-v2\")\n"
   ]
  },
  {
   "cell_type": "code",
   "execution_count": 12,
   "metadata": {
    "execution": {
     "iopub.execute_input": "2025-09-13T23:17:55.347555Z",
     "iopub.status.busy": "2025-09-13T23:17:55.346865Z",
     "iopub.status.idle": "2025-09-13T23:17:55.351035Z",
     "shell.execute_reply": "2025-09-13T23:17:55.350497Z",
     "shell.execute_reply.started": "2025-09-13T23:17:55.347528Z"
    },
    "trusted": true
   },
   "outputs": [],
   "source": [
    "def embed_chunks(texts, model):\n",
    "    embeddings = model.encode(chunks, \n",
    "                             show_progress_bar = True,\n",
    "                             normlize_embeddings = True)\n",
    "    return embeddings"
   ]
  },
  {
   "cell_type": "code",
   "execution_count": 14,
   "metadata": {
    "execution": {
     "iopub.execute_input": "2025-09-13T23:59:09.838420Z",
     "iopub.status.busy": "2025-09-13T23:59:09.838117Z",
     "iopub.status.idle": "2025-09-13T23:59:09.844499Z",
     "shell.execute_reply": "2025-09-13T23:59:09.843725Z",
     "shell.execute_reply.started": "2025-09-13T23:59:09.838396Z"
    },
    "trusted": true
   },
   "outputs": [],
   "source": [
    "def kb_vectors(kb_chunks , model = model):\n",
    "    with open(kb_chunks, 'r', encoding = 'utf-8') as file:\n",
    "        chunks = json.load(file)\n",
    "\n",
    "    texts = [chunk['text'] for chunk in chunks]\n",
    "    ids = [chunk['id'] for chunk in chunks]\n",
    "\n",
    "    embeddings = embed_chunks(texts, model)\n",
    "\n",
    "    dim = embeddings.shape[1]\n",
    "    index = faiss.IndexFlatIP(dim)\n",
    "    index.add(embeddings)\n",
    "\n",
    "    index_file = 'kb_vector.index'\n",
    "    meta_file = 'kb_vector.meta.json'\n",
    "\n",
    "    faiss.write_index(index, index_file)\n",
    "\n",
    "    with open(meta_file, 'w', encoding = 'utf-8') as file:\n",
    "        json.dump(ids, file, ensure_ascii = False, indent = 2)\n",
    "\n",
    "    return index_file, meta_file"
   ]
  },
  {
   "cell_type": "code",
   "execution_count": 15,
   "metadata": {
    "execution": {
     "iopub.execute_input": "2025-09-13T23:59:14.080639Z",
     "iopub.status.busy": "2025-09-13T23:59:14.080358Z",
     "iopub.status.idle": "2025-09-13T23:59:19.237467Z",
     "shell.execute_reply": "2025-09-13T23:59:19.236927Z",
     "shell.execute_reply.started": "2025-09-13T23:59:14.080619Z"
    },
    "trusted": true
   },
   "outputs": [
    {
     "data": {
      "application/vnd.jupyter.widget-view+json": {
       "model_id": "a81fac55f40048b5821b94c08b2f2f6d",
       "version_major": 2,
       "version_minor": 0
      },
      "text/plain": [
       "Batches:   0%|          | 0/17 [00:00<?, ?it/s]"
      ]
     },
     "metadata": {},
     "output_type": "display_data"
    }
   ],
   "source": [
    "index_file, meta_file = kb_vectors(kb_chunks = '/kaggle/input/kb-chunks/kb_chunks.json')"
   ]
  },
  {
   "cell_type": "code",
   "execution_count": null,
   "metadata": {
    "execution": {
     "iopub.execute_input": "2025-09-14T00:26:34.606698Z",
     "iopub.status.busy": "2025-09-14T00:26:34.606429Z",
     "iopub.status.idle": "2025-09-14T00:26:34.613110Z",
     "shell.execute_reply": "2025-09-14T00:26:34.612317Z",
     "shell.execute_reply.started": "2025-09-14T00:26:34.606678Z"
    },
    "trusted": true
   },
   "outputs": [],
   "source": [
    "def load_index(index_file=\"/kaggle/working/kb_vector.index\", meta_file=\"/kaggle/input/kb-chunks/kb_chunks.json\"):\n",
    "    index = faiss.read_index(index_file)\n",
    "\n",
    "    with open(meta_file, \"r\", encoding=\"utf-8\") as f:\n",
    "        ids = json.load(f)\n",
    "\n",
    "    return index, ids\n",
    "\n",
    "def search(query, top_k=3, index_file=\"/kaggle/working/kb_vector.index\", meta_file=\"/kaggle/input/kb-chunks/kb_chunks.json\", model_name=\"intfloat/multilingual-e5-base\"):\n",
    "    index, chunks = load_index(index_file, meta_file)\n",
    "\n",
    "    model = SentenceTransformer(model_name)\n",
    "\n",
    "    query_emb = model.encode([query], convert_to_numpy=True, normalize_embeddings=True)\n",
    "\n",
    "    distances, indices = index.search(query_emb, top_k)\n",
    "\n",
    "    results = []\n",
    "    for i, idx in enumerate(indices[0]):\n",
    "        results.append({\n",
    "            \"id\": chunks[idx][\"id\"],\n",
    "            \"text\": chunks[idx][\"text\"],     \n",
    "            \"source\": chunks[idx][\"source\"], \n",
    "            \"score\": float(distances[0][i])\n",
    "        })\n",
    "\n",
    "    return results\n"
   ]
  },
  {
   "cell_type": "code",
   "execution_count": null,
   "metadata": {
    "execution": {
     "iopub.execute_input": "2025-09-14T00:28:00.975005Z",
     "iopub.status.busy": "2025-09-14T00:28:00.974736Z",
     "iopub.status.idle": "2025-09-14T00:28:03.237754Z",
     "shell.execute_reply": "2025-09-14T00:28:03.237166Z",
     "shell.execute_reply.started": "2025-09-14T00:28:00.974983Z"
    },
    "trusted": true
   },
   "outputs": [
    {
     "data": {
      "application/vnd.jupyter.widget-view+json": {
       "model_id": "bfe009ae4f2b4fb8aa11104e0d63c03b",
       "version_major": 2,
       "version_minor": 0
      },
      "text/plain": [
       "Batches:   0%|          | 0/1 [00:00<?, ?it/s]"
      ]
     },
     "metadata": {},
     "output_type": "display_data"
    },
    {
     "name": "stdout",
     "output_type": "stream",
     "text": [
      "\n",
      "🔎 Search Results:\n",
      "\n",
      "📄 Source: ../kb\\0837b3ae6ae76f97f7eb1532ac21e01f.txt\n",
      "🔗 Chunk ID: 0837b3ae6ae76f97f7eb1532ac21e01f.txt_6\n",
      "💡 Score: 0.8539\n",
      "📝 Content: in the Quran, the Islamic perspective on time management, and examples of wasting time in daily life and how to avoid it. Whenever we talk about time, we always come back to the Quranic verse from Surah Al Asar where Allah says: وَالْعَصْرِ. إِنَّ الْإِنسَانَ لَفِي خُسْرٍ. إِلَّا الَّذِينَ آمَنُوا وَعَمِلُوا الصَّالِحَاتِ وَتَوَاصَوْا بِالْحَقِّ وَتَوَاصَوْا بِالصَّبْرِ ‘By time, Indeed, mankind is in loss, Except for those who have believed and done righteous deeds and advised each other to...\n",
      "\n",
      "📄 Source: ../kb\\0837b3ae6ae76f97f7eb1532ac21e01f.txt\n",
      "🔗 Chunk ID: 0837b3ae6ae76f97f7eb1532ac21e01f.txt_2\n",
      "💡 Score: 0.8482\n",
      "📝 Content: and inspiring framework for time management, transforming fleeting moments into opportunities for profound personal growth and lasting impact. Related: The Top Quran Translations and Commentaries on Amazon In Islam, time is considered to be a precious gift from God and is therefore to be used in a responsible and meaningful way. The Quran states that إِنَّ عِدَّةَ الشُّهُورِ عِندَ اللَّهِ اثْنَا عَشَرَ شَهْرًا فِي كِتَابِ اللَّهِ يَوْمَ خَلَقَ السَّمَاوَاتِ وَالْأَرْضَ مِنْهَا أَرْبَعَةٌ حُرُمٌ...\n",
      "\n",
      "📄 Source: ../kb\\0837b3ae6ae76f97f7eb1532ac21e01f.txt\n",
      "🔗 Chunk ID: 0837b3ae6ae76f97f7eb1532ac21e01f.txt_4\n",
      "💡 Score: 0.8476\n",
      "📝 Content: and meaningful way and that certain times are sacred and should be treated with extra care. Time management is an essential aspect of Islamic teachings and is rooted in the belief that time is a precious gift from God, that should be used to fulfill one’s religious and worldly obligations, and to seek personal and spiritual development. The Quran and Hadith urge Muslims to use their time wisely, prioritize their goals, and be mindful of how they spend their time. Additionally, Muslims are also...\n"
     ]
    }
   ],
   "source": [
    "query = \"ادارة الوقت في الاسلام\"\n",
    "results = search(query, top_k=3)\n",
    "\n",
    "print(\"\\n🔎 Search Results:\")\n",
    "\n",
    "for r in results:\n",
    "    print(f\"\\n📄 Source: {r['source']}\")\n",
    "    print(f\"🔗 Chunk ID: {r['id']}\")\n",
    "    print(f\"💡 Score: {r['score']:.4f}\")\n",
    "    print(f\"📝 Content: {r['text'][:]}\")  "
   ]
  }
 ],
 "metadata": {
  "kaggle": {
   "accelerator": "nvidiaTeslaT4",
   "dataSources": [
    {
     "datasetId": 8264319,
     "sourceId": 13050761,
     "sourceType": "datasetVersion"
    }
   ],
   "dockerImageVersionId": 31090,
   "isGpuEnabled": true,
   "isInternetEnabled": true,
   "language": "python",
   "sourceType": "notebook"
  },
  "kernelspec": {
   "display_name": "Python 3",
   "language": "python",
   "name": "python3"
  },
  "language_info": {
   "codemirror_mode": {
    "name": "ipython",
    "version": 3
   },
   "file_extension": ".py",
   "mimetype": "text/x-python",
   "name": "python",
   "nbconvert_exporter": "python",
   "pygments_lexer": "ipython3",
   "version": "3.11.13"
  }
 },
 "nbformat": 4,
 "nbformat_minor": 4
}
