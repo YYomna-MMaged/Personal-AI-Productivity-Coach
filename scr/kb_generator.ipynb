{
 "cells": [
  {
   "cell_type": "code",
   "execution_count": null,
   "id": "3e8f6a2a",
   "metadata": {},
   "outputs": [],
   "source": [
    "import os, requests\n",
    "from bs4 import BeautifulSoup\n",
    "from PyPDF2 import PdfReader\n",
    "import re\n",
    "import json\n",
    "import glob\n",
    "import pdfplumber\n",
    "from langchain.text_splitter import RecursiveCharacterTextSplitter\n",
    "import hashlib"
   ]
  },
  {
   "cell_type": "code",
   "execution_count": 15,
   "id": "76b04637",
   "metadata": {},
   "outputs": [],
   "source": [
    "source_urls = [\n",
    "    #English resources\n",
    "    'https://www.northbaycounselling.com/wp-content/uploads/2022/05/Cirillo-Pomodoro-Technique.pdf?utm_source=chatgpt.com',\n",
    "    'https://dres.illinois.edu/wp-content/uploads/2023/04/Pomodoro-Technique.pdf?utm_source=chatgpt.com',\n",
    "    'https://www.research.ed.ac.uk/files/447113983/PedersenEtal2024TSTimeManagement.pdf?utm_source=chatgpt.com',\n",
    "    'https://sajithpai.com/wp-content/uploads/2016/06/Deep-Work-Summary.pdf?utm_source=chatgpt.com',\n",
    "    'https://www.getstoryshots.com/books/deep-work-summary/?utm_source=chatgpt.com',\n",
    "    'https://www.todoist.com/productivity-methods/time-blocking',\n",
    "    'http://jamesclear.com/atomic-habits-summary',\n",
    "    'https://www.cdc.gov/sleep/about/?CDC_AAref_Val=https://www.cdc.gov/sleep/about_sleep/sleep_hygiene.html',\n",
    "    'https://tarteel.ai/blog/5-simple-techniques-for-better-time-management-as-a-muslim/',\n",
    "    'https://islam365.io/topics/time_management_islam.html',\n",
    "    'https://www.halaltimes.com/what-does-quran-say-about-time-management/',\n",
    "    'https://www.muslim-library.com/dl/books/English_Time_management_from_Islamic_and_Administrative_perspective.pdf',\n",
    "    'https://www.youngmuslimdigest.com/perspective/11/2022/time-management-and-islam/',\n",
    "    'https://www.linkedin.com/pulse/time-management-islamic-perspective-abdul-ghaffar',\n",
    "    'http://irep.iium.edu.my/97927/']"
   ]
  },
  {
   "cell_type": "code",
   "execution_count": null,
   "id": "e0a41945",
   "metadata": {},
   "outputs": [],
   "source": [
    "clean_kb_dir = \"../kb\"\n",
    "collected_kb_dir = '../kb/collected/'\n",
    "\n",
    "os.makedirs(clean_kb_dir, exist_ok=True)\n",
    "os.makedirs(collected_kb_dir, exist_ok=True)"
   ]
  },
  {
   "cell_type": "code",
   "execution_count": null,
   "id": "98804ad9",
   "metadata": {},
   "outputs": [],
   "source": [
    "def safe_filename(url):\n",
    "    base = url.split(\"/\")[-1].split(\"?\")[0]  \n",
    "    if not base: \n",
    "        base = hashlib.md5(url.encode()).hexdigest()\n",
    "    return base\n",
    "\n",
    "def download_file(url, folder=collected_kb_dir):\n",
    "    fname = safe_filename(url)\n",
    "    path = os.path.join(folder, fname)\n",
    "    if not os.path.exists(path):\n",
    "        try:\n",
    "            r = requests.get(url, timeout=30)\n",
    "            if r.status_code == 200:\n",
    "                with open(path, \"wb\") as f:\n",
    "                    f.write(r.content)\n",
    "                print(f\"[+] Downloaded: {fname}\")\n",
    "        except Exception as e:\n",
    "            print(f\"[!] Error downloading {url} -> {e}\")\n",
    "    return path"
   ]
  },
  {
   "cell_type": "code",
   "execution_count": 18,
   "id": "f30244f6",
   "metadata": {},
   "outputs": [],
   "source": [
    "def extract_text(path):\n",
    "    if path.endswith(\".pdf\"):\n",
    "        text = \"\"\n",
    "        try:\n",
    "            with pdfplumber.open(path) as pdf:\n",
    "                for page in pdf.pages:\n",
    "                    text += page.extract_text() or \"\"\n",
    "        except Exception as e:\n",
    "            print(f\"[!] PDF read error {path}: {e}\")\n",
    "        return text\n",
    "    else:\n",
    "        # HTML\n",
    "        try:\n",
    "            with open(path, \"rb\") as f:\n",
    "                html = f.read()\n",
    "            soup = BeautifulSoup(html, \"html.parser\")\n",
    "            paragraphs = [p.get_text(\" \", strip=True) for p in soup.find_all(\"p\")]\n",
    "            return \"\\n\".join(paragraphs)\n",
    "        except Exception as e:\n",
    "            print(f\"[!] HTML parse error {path}: {e}\")\n",
    "            return \"\""
   ]
  },
  {
   "cell_type": "code",
   "execution_count": null,
   "id": "325da2f3",
   "metadata": {},
   "outputs": [],
   "source": [
    "def clean_text(text):\n",
    "    text = re.sub(r\"http\\S+\", \"\", text)  \n",
    "    text = re.sub(r\"\\s+\", \" \", text)     \n",
    "    text = text.replace(\"\\u200f\", \"\")    \n",
    "    return text.strip()"
   ]
  },
  {
   "cell_type": "code",
   "execution_count": 29,
   "id": "e8b8ae4b",
   "metadata": {},
   "outputs": [
    {
     "name": "stdout",
     "output_type": "stream",
     "text": [
      "[!] PDF read error collected/PedersenEtal2024TSTimeManagement.pdf: [Errno 2] No such file or directory: 'collected/PedersenEtal2024TSTimeManagement.pdf'\n"
     ]
    }
   ],
   "source": [
    "for url in source_urls:\n",
    "    path = download_file(url)\n",
    "    raw_text = extract_text(path)\n",
    "    cleaned = clean_text(raw_text)\n",
    "    \n",
    "    if cleaned:\n",
    "        out_path = os.path.join(clean_kb_dir, os.path.basename(path) + \".txt\")\n",
    "        with open(out_path, \"w\", encoding=\"utf-8\") as f:\n",
    "            f.write(cleaned)"
   ]
  },
  {
   "cell_type": "code",
   "execution_count": 20,
   "id": "6261f583",
   "metadata": {},
   "outputs": [],
   "source": [
    "splitter = RecursiveCharacterTextSplitter(chunk_size=500, chunk_overlap=50)\n",
    "\n",
    "def chunk_text(text, source):\n",
    "    chunks = splitter.split_text(text)\n",
    "    return [\n",
    "        {\n",
    "            \"id\": f\"{os.path.basename(source)}_{i}\",\n",
    "            \"text\": ch,\n",
    "            \"source\": source\n",
    "        }\n",
    "        for i, ch in enumerate(chunks)\n",
    "    ]"
   ]
  },
  {
   "cell_type": "code",
   "execution_count": 30,
   "id": "86ff479d",
   "metadata": {},
   "outputs": [],
   "source": [
    "def load_file(path):\n",
    "    if path.endswith(\".txt\"):\n",
    "        with open(path, \"r\", encoding=\"utf-8\", errors=\"ignore\") as f:\n",
    "            return f.read()\n",
    "    elif path.endswith(\".pdf\"):\n",
    "        reader = PdfReader(path)\n",
    "        text = \"\"\n",
    "        for page in reader.pages:\n",
    "            if page.extract_text():\n",
    "                text += page.extract_text() + \"\\n\"\n",
    "        return text\n",
    "    return \"\"\n",
    "\n",
    "def process_kb(folder=\"kb/\"):\n",
    "    all_chunks = []\n",
    "    for path in glob.glob(os.path.join(folder, \"*\")):\n",
    "        text = load_file(path)\n",
    "        if not text.strip():\n",
    "            continue\n",
    "        chunks = chunk_text(text, path)\n",
    "        print(f\"📂 {os.path.basename(path)} -> {len(chunks)} chunks\")\n",
    "        all_chunks.extend(chunks)\n",
    "    print(f\"\\n✅ Total chunks: {len(all_chunks)}\")\n",
    "    return all_chunks"
   ]
  },
  {
   "cell_type": "code",
   "execution_count": 31,
   "id": "b35f418f",
   "metadata": {},
   "outputs": [
    {
     "name": "stdout",
     "output_type": "stream",
     "text": [
      "📂 0837b3ae6ae76f97f7eb1532ac21e01f.txt -> 19 chunks\n",
      "📂 7c3fc7a70029d4facb8b8c9ca3c3a4a3.txt -> 11 chunks\n",
      "📂 atomic-habits-summary.txt -> 13 chunks\n",
      "📂 bfed0aeb7b44f9a75316b748d19d3645.txt -> 26 chunks\n",
      "📂 c1101a13f67d0d48f283bc291e1e4edf.txt -> 9 chunks\n",
      "📂 Cirillo-Pomodoro-Technique.pdf.txt -> 209 chunks\n",
      "📂 d82c0864ccba944cc44060a11e806bda.txt -> 4 chunks\n",
      "📂 Deep-Work-Summary.pdf.txt -> 67 chunks\n",
      "📂 Pomodoro-Technique.pdf.txt -> 9 chunks\n",
      "📂 sleep_hygiene.html.txt -> 4 chunks\n",
      "📂 time-blocking.txt -> 67 chunks\n",
      "📂 time-management-islamic-perspective-abdul-ghaffar.txt -> 18 chunks\n",
      "📂 time_management_islam.html.txt -> 72 chunks\n",
      "\n",
      "✅ Total chunks: 528\n"
     ]
    }
   ],
   "source": [
    "all_chunks = process_kb(clean_kb_dir)"
   ]
  },
  {
   "cell_type": "code",
   "execution_count": 32,
   "id": "7273668f",
   "metadata": {},
   "outputs": [
    {
     "name": "stdout",
     "output_type": "stream",
     "text": [
      "\n",
      "[✓] Finished! Total chunks: 528 saved in kb_chunks.json\n"
     ]
    }
   ],
   "source": [
    "with open(\"kb_chunks.json\", \"w\", encoding=\"utf-8\") as f:\n",
    "    json.dump(all_chunks, f, ensure_ascii=False, indent=2)\n",
    "\n",
    "print(f\"\\n[✓] Finished! Total chunks: {len(all_chunks)} saved in kb_chunks.json\")\n"
   ]
  }
 ],
 "metadata": {
  "kernelspec": {
   "display_name": "Python 3",
   "language": "python",
   "name": "python3"
  },
  "language_info": {
   "codemirror_mode": {
    "name": "ipython",
    "version": 3
   },
   "file_extension": ".py",
   "mimetype": "text/x-python",
   "name": "python",
   "nbconvert_exporter": "python",
   "pygments_lexer": "ipython3",
   "version": "3.10.0"
  }
 },
 "nbformat": 4,
 "nbformat_minor": 5
}
